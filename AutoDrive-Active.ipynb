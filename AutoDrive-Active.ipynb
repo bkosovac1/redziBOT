{
 "cells": [
  {
   "cell_type": "markdown",
   "id": "d1b03f33",
   "metadata": {},
   "source": [
    "## Install and Import Libraries"
   ]
  },
  {
   "cell_type": "code",
   "execution_count": null,
   "id": "f64a9b72",
   "metadata": {},
   "outputs": [],
   "source": [
    "# Install required packages\n",
    "\n",
    "#%pip install ultralytics\n",
    "#%pip install opencv-python\n",
    "#%pip install cvzone\n",
    "#%pip install torch torchvision torchaudio --index-url https://download.pytorch.org/whl/cu126"
   ]
  },
  {
   "cell_type": "code",
   "execution_count": null,
   "id": "5dba6712",
   "metadata": {},
   "outputs": [],
   "source": [
    "# Import Essential Libraries\n",
    "from ultralytics import YOLO\n",
    "import cv2\n",
    "import cvzone\n",
    "import math\n",
    "import torch\n"
   ]
  },
  {
   "cell_type": "markdown",
   "id": "33166d85",
   "metadata": {},
   "source": [
    "## Data Preparation"
   ]
  },
  {
   "cell_type": "code",
   "execution_count": null,
   "id": "67511291",
   "metadata": {},
   "outputs": [],
   "source": [
    "# Check if GPU is available\n",
    "print(torch.cuda.device_count())\n",
    "print(torch.cuda.get_device_name(0))\n",
    "\n",
    "# Load model and class names\n",
    "model = YOLO(\"yolo-weights/yolo11l.pt\")\n"
   ]
  },
  {
   "cell_type": "code",
   "execution_count": null,
   "id": "763da416",
   "metadata": {},
   "outputs": [],
   "source": [
    "# Class names for COCO dataset\n",
    "classNames = [\"person\", \"bicycle\", \"car\", \"motorbike\", \"aeroplane\", \"bus\", \"train\", \"truck\", \"boat\", \"traffic light\", \"fire hydrant\", \"stop sign\", \"parking meter\", \"bench\", \n",
    "              \"bird\", \"cat\", \"dog\", \"horse\", \"sheep\", \"cow\", \"elephant\", \"bear\", \"zebra\", \"giraffe\", \"backpack\", \"umbrella\", \"handbag\", \"tie\", \"suitcase\", \"frisbee\", \"skis\", \n",
    "              \"snowboard\", \"sports ball\", \"kite\", \"baseball bat\", \"baseball glove\", \"skateboard\", \"surfboard\", \"tennis racket\", \"bottle\", \"wine glass\", \"cup\", \"fork\", \"knife\", \n",
    "              \"spoon\", \"bowl\", \"banana\", \"apple\", \"sandwich\", \"orange\", \"broccoli\", \"carrot\", \"hot dog\", \"pizza\", \"donut\", \"cake\", \"chair\", \"sofa\", \"pottedplant\", \"bed\", \n",
    "              \"diningtable\", \"toilet\", \"tvmonitor\", \"laptop\", \"mouse\", \"remote\", \"keyboard\", \"cell phone\", \"microwave\", \"oven\", \"toaster\", \"sink\", \"refrigerator\", \"book\", \n",
    "              \"clock\", \"vase\", \"scissors\", \"teddy bear\", \"hair drier\", \"toothbrush\"]\n"
   ]
  },
  {
   "cell_type": "markdown",
   "id": "49df6d1f",
   "metadata": {},
   "source": [
    "## Training and Saving Model"
   ]
  },
  {
   "cell_type": "code",
   "execution_count": null,
   "id": "3686dbe6",
   "metadata": {},
   "outputs": [],
   "source": [
    "# Train Model\n",
    "train_results = model.train(\n",
    "    data=\"data/coco.yaml\", \n",
    "    epochs=10, \n",
    "    imgsz=640,\n",
    ")\n",
    "\n",
    "# Evaluate model performance on the validation set\n",
    "#metrics = model.val()\n",
    "\n",
    "# Perform object detection on an image\n",
    "#results = model(\"data/videos/test.png\")\n",
    "#results[0].show()\n"
   ]
  },
  {
   "cell_type": "code",
   "execution_count": null,
   "id": "e8f37745",
   "metadata": {},
   "outputs": [],
   "source": [
    "# Save the model\n",
    "#model.save(\"trained-models/yolo11l-trained.pt\")\n"
   ]
  },
  {
   "cell_type": "markdown",
   "id": "5cdb250b",
   "metadata": {},
   "source": [
    "## Testing Model"
   ]
  },
  {
   "cell_type": "code",
   "execution_count": null,
   "id": "2763035f",
   "metadata": {},
   "outputs": [],
   "source": [
    "# Load camera and test the model\n",
    "\n",
    "# Load camera\n",
    "#cap = cv2.VideoCapture(0)\n",
    "#cap.set(3, 640)\n",
    "#cap.set(4, 360)\n",
    "\n",
    "# Load video\n",
    "cap = cv2.VideoCapture(\"data/videos/highway_test_video.mp4\")\n",
    "\n",
    "# Initiate and test the model\n",
    "while True:\n",
    "    success, img = cap.read()\n",
    "    results = model(img, stream=True)\n",
    "    for r in results:\n",
    "        boxes = r.boxes\n",
    "        for box in boxes:\n",
    "\n",
    "            # Bounding Box\n",
    "            x1, y1, x2, y2 = box.xyxy[0]\n",
    "            x1, y1, x2, y2 = int(x1), int(y1), int(x2), int(y2)\n",
    "            w, h = x2 - x1, y2 - y1\n",
    "\n",
    "            # Confidence and Class name box\n",
    "            conf = math.ceil((box.conf[0] * 100)) / 100\n",
    "            cls = int(box.cls[0])\n",
    "\n",
    "            objclass = classNames[cls]\n",
    "            if objclass == \"person\" or objclass == \"car\" or objclass == \"truck\" or objclass == \"bus\" or objclass == \"bicycle\" or objclass == \"motorbike\" or objclass == \"train\":\n",
    "                cvzone.cornerRect(img, (x1, y1, w, h), l = 8, t = 2)\n",
    "                cvzone.putTextRect(img, f\"{objclass} - {conf}\", (max(0, x1), max(40, y1)), scale=0.6, thickness=1, offset=3)\n",
    "\n",
    "    cv2.imshow(\"Image\", img)\n",
    "    cv2.waitKey(1)\n"
   ]
  }
 ],
 "metadata": {
  "kernelspec": {
   "display_name": ".venv",
   "language": "python",
   "name": "python3"
  },
  "language_info": {
   "codemirror_mode": {
    "name": "ipython",
    "version": 3
   },
   "file_extension": ".py",
   "mimetype": "text/x-python",
   "name": "python",
   "nbconvert_exporter": "python",
   "pygments_lexer": "ipython3",
   "version": "3.13.3"
  }
 },
 "nbformat": 4,
 "nbformat_minor": 5
}
