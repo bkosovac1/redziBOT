{
 "cells": [
  {
   "cell_type": "code",
   "execution_count": null,
   "id": "f64a9b72",
   "metadata": {},
   "outputs": [],
   "source": [
    "# Install required packages\n",
    "\n",
    "#%pip install ultralytics\n",
    "#%pip install opencv-python\n",
    "#%pip install cvzone\n",
    "#%pip install torch torchvision torchaudio --index-url https://download.pytorch.org/whl/cu126"
   ]
  },
  {
   "cell_type": "code",
   "execution_count": null,
   "id": "5dba6712",
   "metadata": {},
   "outputs": [],
   "source": [
    "# Import Essential Libraries\n",
    "from ultralytics import YOLO\n",
    "import cv2\n",
    "import cvzone\n",
    "import math"
   ]
  },
  {
   "cell_type": "code",
   "execution_count": null,
   "id": "c89c932f",
   "metadata": {},
   "outputs": [],
   "source": [
    "# Check if GPU is available\n",
    "import torch\n",
    "\n",
    "print(torch.cuda.device_count())\n",
    "print(torch.cuda.get_device_name(0))"
   ]
  },
  {
   "cell_type": "code",
   "execution_count": null,
   "id": "67511291",
   "metadata": {},
   "outputs": [],
   "source": [
    "# Load camera\n",
    "\n",
    "#cap = cv2.VideoCapture(0)\n",
    "#cap.set(3, 640)\n",
    "#cap.set(4, 360)\n",
    "\n",
    "# Load video\n",
    "cap = cv2.VideoCapture(\"data/videos/highway_test_video.mp4\")"
   ]
  },
  {
   "cell_type": "code",
   "execution_count": null,
   "id": "004741a3",
   "metadata": {},
   "outputs": [],
   "source": [
    "# Load model and class names\n",
    "model = YOLO(\"yolo-weights/yolov8l.pt\")\n",
    "\n",
    "classNames = [\"person\", \"bicycle\", \"car\", \"motorbike\", \"aeroplane\", \"bus\", \"train\", \"truck\", \"boat\", \"traffic light\", \"fire hydrant\", \"stop sign\", \"parking meter\", \"bench\", \n",
    "              \"bird\", \"cat\", \"dog\", \"horse\", \"sheep\", \"cow\", \"elephant\", \"bear\", \"zebra\", \"giraffe\", \"backpack\", \"umbrella\", \"handbag\", \"tie\", \"suitcase\", \"frisbee\", \"skis\", \n",
    "              \"snowboard\", \"sports ball\", \"kite\", \"baseball bat\", \"baseball glove\", \"skateboard\", \"surfboard\", \"tennis racket\", \"bottle\", \"wine glass\", \"cup\", \"fork\", \"knife\", \n",
    "              \"spoon\", \"bowl\", \"banana\", \"apple\", \"sandwich\", \"orange\", \"broccoli\", \"carrot\", \"hot dog\", \"pizza\", \"donut\", \"cake\", \"chair\", \"sofa\", \"pottedplant\", \"bed\", \n",
    "              \"diningtable\", \"toilet\", \"tvmonitor\", \"laptop\", \"mouse\", \"remote\", \"keyboard\", \"cell phone\", \"microwave\", \"oven\", \"toaster\", \"sink\", \"refrigerator\", \"book\", \n",
    "              \"clock\", \"vase\", \"scissors\", \"teddy bear\", \"hair drier\", \"toothbrush\"]"
   ]
  },
  {
   "cell_type": "code",
   "execution_count": null,
   "id": "797df023",
   "metadata": {},
   "outputs": [],
   "source": [
    "# Fine - tune model"
   ]
  },
  {
   "cell_type": "code",
   "execution_count": null,
   "id": "2763035f",
   "metadata": {},
   "outputs": [],
   "source": [
    "# Initiate and test the model\n",
    "while True:\n",
    "    success, img = cap.read()\n",
    "    results = model(img, stream=True)\n",
    "    for r in results:\n",
    "        boxes = r.boxes\n",
    "        for box in boxes:\n",
    "\n",
    "            # Bounding Box\n",
    "            x1, y1, x2, y2 = box.xyxy[0]\n",
    "            x1, y1, x2, y2 = int(x1), int(y1), int(x2), int(y2)\n",
    "            w, h = x2 - x1, y2 - y1\n",
    "\n",
    "            # Confidence and Class name box\n",
    "            conf = math.ceil((box.conf[0] * 100)) / 100\n",
    "            cls = int(box.cls[0])\n",
    "\n",
    "            objclass = classNames[cls]\n",
    "            if objclass == \"car\" or objclass == \"truck\" or objclass == \"bus\" or objclass == \"bicycle\" or objclass == \"person\":\n",
    "                cvzone.cornerRect(img, (x1, y1, w, h), l = 8, t = 2)\n",
    "                cvzone.putTextRect(img, f\"{objclass} - {conf}\", (max(0, x1), max(40, y1)), scale=0.6, thickness=1, offset=3)\n",
    "\n",
    "    cv2.imshow(\"Image\", img)\n",
    "    cv2.waitKey(1)"
   ]
  }
 ],
 "metadata": {
  "kernelspec": {
   "display_name": ".venv",
   "language": "python",
   "name": "python3"
  },
  "language_info": {
   "codemirror_mode": {
    "name": "ipython",
    "version": 3
   },
   "file_extension": ".py",
   "mimetype": "text/x-python",
   "name": "python",
   "nbconvert_exporter": "python",
   "pygments_lexer": "ipython3",
   "version": "3.13.3"
  }
 },
 "nbformat": 4,
 "nbformat_minor": 5
}
